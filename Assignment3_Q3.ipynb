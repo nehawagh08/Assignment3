{
 "cells": [
  {
   "cell_type": "code",
   "execution_count": null,
   "id": "265209a5-f9fc-44a5-935d-e625f076a2fd",
   "metadata": {},
   "outputs": [],
   "source": [
    "'''Write a Python function that accepts a string and calculate the number of upper case letters and lower case letters.\n",
    "Sample String : 'The quick Brow Fox'\n",
    "Expected Output :\n",
    "No. of Upper case characters : 3\n",
    "No. of Lower case Characters : 12'''\n",
    "st=input()\n",
    "low,upper=0,0\n",
    "for i in range(len(st)):\n",
    "    if st[i].islower():\n",
    "        low+=1\n",
    "    elif st[i].isupper():\n",
    "        upper+=1\n",
    "    else:\n",
    "        pass\n",
    "print('No. of Upper case characters :',upper)\n",
    "print('No. of Lower case Characters :',low)"
   ]
  },
  {
   "cell_type": "code",
   "execution_count": null,
   "id": "54a57e92-f509-4ef6-931a-22f472b94f40",
   "metadata": {},
   "outputs": [],
   "source": []
  }
 ],
 "metadata": {
  "kernelspec": {
   "display_name": "Python 3 (ipykernel)",
   "language": "python",
   "name": "python3"
  },
  "language_info": {
   "codemirror_mode": {
    "name": "ipython",
    "version": 3
   },
   "file_extension": ".py",
   "mimetype": "text/x-python",
   "name": "python",
   "nbconvert_exporter": "python",
   "pygments_lexer": "ipython3",
   "version": "3.10.9"
  }
 },
 "nbformat": 4,
 "nbformat_minor": 5
}
