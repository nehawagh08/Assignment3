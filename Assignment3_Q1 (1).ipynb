{
 "cells": [
  {
   "cell_type": "code",
   "execution_count": 2,
   "id": "b957cad0-ecd5-4bf8-8dc8-7a30696198fe",
   "metadata": {},
   "outputs": [
    {
     "name": "stdout",
     "output_type": "stream",
     "text": [
      "8 2 3 0 7\n",
      "20\n"
     ]
    }
   ],
   "source": [
    "#Game of \"Functions\"\n",
    "'''Sample List : (8, 2, 3, 0, 7)\n",
    "Expected Output : 20'''\n",
    "\n",
    "def sum1(l1):\n",
    "    sum1=0\n",
    "    for i in l1:\n",
    "        sum1=sum1+i\n",
    "    return sum1\n",
    "l1=list(map(int,input().split()))\n",
    "print(sum1(l1))"
   ]
  },
  {
   "cell_type": "code",
   "execution_count": null,
   "id": "3427ed44-a762-4569-a4bd-b81c582caad9",
   "metadata": {},
   "outputs": [],
   "source": []
  }
 ],
 "metadata": {
  "kernelspec": {
   "display_name": "Python 3 (ipykernel)",
   "language": "python",
   "name": "python3"
  },
  "language_info": {
   "codemirror_mode": {
    "name": "ipython",
    "version": 3
   },
   "file_extension": ".py",
   "mimetype": "text/x-python",
   "name": "python",
   "nbconvert_exporter": "python",
   "pygments_lexer": "ipython3",
   "version": "3.10.9"
  }
 },
 "nbformat": 4,
 "nbformat_minor": 5
}
