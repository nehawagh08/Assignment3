{
 "cells": [
  {
   "cell_type": "code",
   "execution_count": 1,
   "id": "81378e75-482d-40e3-9237-fbaa1b62b215",
   "metadata": {},
   "outputs": [
    {
     "name": "stdin",
     "output_type": "stream",
     "text": [
      " 1234abcd\n"
     ]
    },
    {
     "name": "stdout",
     "output_type": "stream",
     "text": [
      "dcba4321\n"
     ]
    }
   ],
   "source": [
    "'''Write a Python program to reverse a string.\n",
    "Sample String : \"1234abcd\"\n",
    "Expected Output : \"dcba4321\"'''\n",
    "st=input()\n",
    "st1=''\n",
    "for i in range(len(st)-1,-1,-1):\n",
    "    st1=st1+st[i]\n",
    "print(st1) "
   ]
  },
  {
   "cell_type": "code",
   "execution_count": null,
   "id": "9cfe47c8-5598-4b72-934c-db9d119ea363",
   "metadata": {},
   "outputs": [],
   "source": []
  }
 ],
 "metadata": {
  "kernelspec": {
   "display_name": "Python 3 (ipykernel)",
   "language": "python",
   "name": "python3"
  },
  "language_info": {
   "codemirror_mode": {
    "name": "ipython",
    "version": 3
   },
   "file_extension": ".py",
   "mimetype": "text/x-python",
   "name": "python",
   "nbconvert_exporter": "python",
   "pygments_lexer": "ipython3",
   "version": "3.10.9"
  }
 },
 "nbformat": 4,
 "nbformat_minor": 5
}
